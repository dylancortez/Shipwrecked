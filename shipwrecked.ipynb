{
 "cells": [
  {
   "attachments": {},
   "cell_type": "markdown",
   "metadata": {},
   "source": [
    "# Shipwrecked\n",
    "\n",
    "In this project, we will write a Python program that uses Bayes' Rule to quickly find a solitary fisherman who has gone missing. As the director of the Coast Guard's search and rescue operations for the region, we've already interviewed the fisherman's wife and <b>determined his last known position</b>, now more than six hours old.\n",
    "He radioed that he was abandoning ship, but no one knows if he's in a life raft or floating in the sea. The waters around the cape are warm, but if he's immersed, he'll experience hypothermia in approximately 12 hours. If he's wearing a floatation device and is lucky, he might last three days."
   ]
  },
  {
   "attachments": {},
   "cell_type": "markdown",
   "metadata": {},
   "source": [
    "### The Objective\n",
    "We will create a search and rescue game that uses Bayes' Rule to inform player choices on how to conduct a search."
   ]
  },
  {
   "attachments": {},
   "cell_type": "markdown",
   "metadata": {},
   "source": [
    "### The Strategy\n",
    "We'll start with initial target probabilities for the sailor's location and update them for the search results. If we achieve an effective search of an area but find nothing, the probability that the sailor is in another area will increase.\n",
    "But, just as in real life, there are two ways things could go wrong: you thoroughly search an area but still miss the sailor, or your search goes poorly, wasting a day's effort. To equate this to search effectiveness scores, in the first case, you might get an SEP of 0.85, but the sailor is in the remaining 15% of the area not searched. In the second case, your SEP is 0.2, and you've left 80 percent of the area unsearched.\n",
    "\n",
    "To aid the player, we will use the OpenCV library to build an interface for working with the program. Although the interface can be something simple like a menu built in the shell, you'll also want a map of the cape and the search areas. The OpenCV library is an excellent choice for this game, since it lets you display images and add drawings and text."
   ]
  },
  {
   "cell_type": "code",
   "execution_count": null,
   "metadata": {},
   "outputs": [],
   "source": [
    "#importing the necessary packages\n",
    "import sys, random, itertools, numpy as np, cv2 as cv\n",
    "\n",
    "MAP_FILE = 'cape_python.png'\n",
    "\n",
    "SA1_CORNERS = (130, 265, 180, 315) #(UL-X, UL-Y, LR-X, LR-Y)\n",
    "SA2_CORNERS = (80, 255, 130, 305)\n",
    "SA3_CORNERS = (105, 205, 155, 255)\n",
    "\n",
    "#Defining the Search Class\n",
    "class Search():\n",
    "    \"\"\"Bayesian Search & Rescue game \"\"\"\n",
    "\n",
    "    def __init__(self, name):\n",
    "        self.name = name\n",
    "        self.img = cv.imread(MAP_FILE, cv.IMREAD_COLOR)\n",
    "        if self.img is None:\n",
    "            print(\"Could not load map file {}\".format(MAP_FILE), file=sys.stderr)\n",
    "            sys.exit(1)\n",
    "        \n",
    "        self.area_actual = 0\n",
    "        self.sailor_actual = [0, 0] #As \"local\" coords within search area\n",
    "\n",
    "        self.sa1 = self.img[SA1_CORNERS[1] : SA1_CORNERS[3], SA1_CORNERS[0] : SA1_CORNERS[2]]\n",
    "        self.sa2 = self.img[SA2_CORNERS[1] : SA2_CORNERS[3], SA2_CORNERS[0] : SA2_CORNERS[2]]\n",
    "        self.sa3 = self.img[SA3_CORNERS[1] : SA3_CORNERS[3], SA3_CORNERS[0] : SA3_CORNERS[2]]\n",
    "\n",
    "        self.p1 = 0.2\n",
    "        self.p2 = 0.5\n",
    "        self.p3 = 0.3\n",
    "\n",
    "        self.sep1 = 0\n",
    "        self.sep2 = 0\n",
    "        self.sep3 = 0\n",
    "    \n",
    "    def draw_map(self, last_known):\n",
    "        \"\"\"Display basemap with scale, last known xy location, search areas\"\"\"\n",
    "        cv.line(self.img, (20, 370), )"
   ]
  }
 ],
 "metadata": {
  "language_info": {
   "name": "python"
  },
  "orig_nbformat": 4
 },
 "nbformat": 4,
 "nbformat_minor": 2
}
